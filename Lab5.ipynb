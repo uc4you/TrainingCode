{
 "cells": [
  {
   "cell_type": "markdown",
   "metadata": {},
   "source": [
    "# # This is Lab5"
   ]
  },
  {
   "cell_type": "code",
   "execution_count": 9,
   "metadata": {
    "collapsed": false
   },
   "outputs": [
    {
     "ename": "NameError",
     "evalue": "name 'ebookitem' is not defined",
     "output_type": "error",
     "traceback": [
      "\u001b[0;31m---------------------------------------------------------------------------\u001b[0m",
      "\u001b[0;31mNameError\u001b[0m                                 Traceback (most recent call last)",
      "\u001b[0;32m<ipython-input-9-0ac034394e6b>\u001b[0m in \u001b[0;36m<module>\u001b[0;34m()\u001b[0m\n\u001b[1;32m      7\u001b[0m     \u001b[0;32mfor\u001b[0m \u001b[0mrow\u001b[0m \u001b[0;32min\u001b[0m \u001b[0mreader\u001b[0m\u001b[0;34m:\u001b[0m\u001b[0;34m\u001b[0m\u001b[0m\n\u001b[1;32m      8\u001b[0m \u001b[0;31m#       ebooklist[row[4]] = row[0],row[1],row[2],row[3],row[4],row[5]\u001b[0m\u001b[0;34m\u001b[0m\u001b[0;34m\u001b[0m\u001b[0m\n\u001b[0;32m----> 9\u001b[0;31m        \u001b[0mebooklist\u001b[0m\u001b[0;34m[\u001b[0m\u001b[0mrow\u001b[0m\u001b[0;34m[\u001b[0m\u001b[0;36m4\u001b[0m\u001b[0;34m]\u001b[0m\u001b[0;34m]\u001b[0m \u001b[0;34m=\u001b[0m \u001b[0mebookitem\u001b[0m\u001b[0;34m(\u001b[0m\u001b[0mrow\u001b[0m\u001b[0;34m)\u001b[0m\u001b[0;34m\u001b[0m\u001b[0m\n\u001b[0m\u001b[1;32m     10\u001b[0m \u001b[0;34m\u001b[0m\u001b[0m\n\u001b[1;32m     11\u001b[0m \u001b[0;31m#print(ebooklist)\u001b[0m\u001b[0;34m\u001b[0m\u001b[0;34m\u001b[0m\u001b[0m\n",
      "\u001b[0;31mNameError\u001b[0m: name 'ebookitem' is not defined"
     ]
    }
   ],
   "source": [
    "import csv\n",
    "\n",
    "ebooklist = {}\n",
    "with open('//Users//ron//Documents//ontwikkel//ebook2016.csv') as ebooks:\n",
    "    reader = csv.reader(ebooks)\n",
    "\n",
    "    for row in reader:\n",
    "#       ebooklist[row[4]] = row[0],row[1],row[2],row[3],row[4],row[5]\n",
    "       ebooklist[row[4]] = ebookitem(row)\n",
    "\n",
    "#print(ebooklist)\n",
    "\n",
    "\n",
    "#if \"9780128020272\" in ebooklist:\n",
    "#    print (ebooklist)\n",
    "\n",
    "#book = ebook()\n",
    "\n",
    "\n",
    "\n",
    "\n",
    "# ebook class  Source, PackageName ,PackageID ,ISBN, UnformattedISBN, BookTitle\n",
    "class ebookitem:\n",
    "#    def __init__(self, source, pacname, pacid, isbn, unfisbn, btitle):\n",
    "    def __init__(self, ebookinfo):    \n",
    "        self.ebookinfo = ebookinfo\n",
    "\n"
   ]
  },
  {
   "cell_type": "markdown",
   "metadata": {},
   "source": [
    "# test"
   ]
  }
 ],
 "metadata": {
  "anaconda-cloud": {},
  "kernelspec": {
   "display_name": "Python [default]",
   "language": "python",
   "name": "python3"
  },
  "language_info": {
   "codemirror_mode": {
    "name": "ipython",
    "version": 3
   },
   "file_extension": ".py",
   "mimetype": "text/x-python",
   "name": "python",
   "nbconvert_exporter": "python",
   "pygments_lexer": "ipython3",
   "version": "3.5.2"
  }
 },
 "nbformat": 4,
 "nbformat_minor": 1
}
